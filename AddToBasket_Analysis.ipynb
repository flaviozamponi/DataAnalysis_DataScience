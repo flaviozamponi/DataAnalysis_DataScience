{
 "cells": [
  {
   "cell_type": "markdown",
   "metadata": {
    "ExecuteTime": {
     "end_time": "2019-08-29T06:32:18.591284Z",
     "start_time": "2019-08-29T06:32:18.587284Z"
    }
   },
   "source": [
    "# Time+Day Basket Analysis\n",
    "\n"
   ]
  },
  {
   "cell_type": "code",
   "execution_count": 1,
   "metadata": {
    "ExecuteTime": {
     "end_time": "2020-01-16T11:43:21.979821Z",
     "start_time": "2020-01-16T11:43:20.840845Z"
    }
   },
   "outputs": [],
   "source": [
    "%matplotlib notebook\n",
    "import matplotlib.pyplot as plt\n",
    "\n",
    "from matplotlib.font_manager import FontProperties\n",
    "import seaborn as sns; sns.set()\n",
    "from itertools import combinations, combinations_with_replacement\n",
    "import pandas as pd\n",
    "import numpy as np\n",
    "pd.set_option(\"display.max_columns\",999)\n",
    "\n",
    "import seaborn as sns; sns.set()\n",
    "\n",
    "from impala.dbapi import connect\n",
    "from impala.util import as_pandas"
   ]
  },
  {
   "cell_type": "code",
   "execution_count": 2,
   "metadata": {
    "ExecuteTime": {
     "end_time": "2020-01-16T11:43:21.984472Z",
     "start_time": "2020-01-16T11:43:21.981678Z"
    }
   },
   "outputs": [],
   "source": [
    "def query_cluster(query: str):\n",
    "    host = \"server.name.de\"\n",
    "    port = 12345\n",
    "    cursor = connect(host=host, port=port).cursor()\n",
    "    cursor.execute(query)\n",
    "    return as_pandas(cursor)"
   ]
  },
  {
   "cell_type": "code",
   "execution_count": 3,
   "metadata": {
    "ExecuteTime": {
     "end_time": "2020-01-16T11:43:21.992074Z",
     "start_time": "2020-01-16T11:43:21.986231Z"
    }
   },
   "outputs": [],
   "source": [
    "##############################\n",
    "# \n",
    "# S E T   T H E    B U  ! ! !\n",
    "#\n",
    "##############################\n",
    "##############################\n",
    "# medium\n",
    "# mail OR newsletter\n",
    "##############################\n",
    "Marke = 'xxx'\n",
    "BU = 'www.xxx.de'"
   ]
  },
  {
   "cell_type": "code",
   "execution_count": 4,
   "metadata": {
    "ExecuteTime": {
     "end_time": "2020-01-16T11:43:41.572452Z",
     "start_time": "2020-01-16T11:43:21.993720Z"
    }
   },
   "outputs": [],
   "source": [
    "query = f'''\n",
    "select fullvisitorid, visitid, visitstarttime, productprice, medium\n",
    "from  attribution.tableName\n",
    "where hostname = '{BU}'\n",
    "and actiontypetext='zum_warenkorb'\n",
    "'''\n",
    "\n",
    "data = query_cluster(query) # returns pandas dataframe"
   ]
  },
  {
   "cell_type": "code",
   "execution_count": 5,
   "metadata": {
    "ExecuteTime": {
     "end_time": "2020-01-16T11:43:42.640408Z",
     "start_time": "2020-01-16T11:43:41.573828Z"
    }
   },
   "outputs": [],
   "source": [
    "###################################################\n",
    "# Pickle!\n",
    "###################################################\n",
    "# data.to_pickle('file.pickle')\n",
    "# data = pd.read_pickle('file_old.pickle')"
   ]
  },
  {
   "cell_type": "code",
   "execution_count": 6,
   "metadata": {
    "ExecuteTime": {
     "end_time": "2020-01-16T11:43:42.645853Z",
     "start_time": "2020-01-16T11:43:42.641867Z"
    }
   },
   "outputs": [
    {
     "data": {
      "text/plain": [
       "(597410, 5)"
      ]
     },
     "execution_count": 6,
     "metadata": {},
     "output_type": "execute_result"
    }
   ],
   "source": [
    "data.shape"
   ]
  },
  {
   "cell_type": "code",
   "execution_count": 7,
   "metadata": {
    "ExecuteTime": {
     "end_time": "2020-01-16T11:43:42.979379Z",
     "start_time": "2020-01-16T11:43:42.647563Z"
    }
   },
   "outputs": [],
   "source": [
    "data['timestamp'] = pd.to_datetime(data['visitstarttime'], unit='s')"
   ]
  },
  {
   "cell_type": "code",
   "execution_count": 8,
   "metadata": {
    "ExecuteTime": {
     "end_time": "2020-01-16T11:43:43.118382Z",
     "start_time": "2020-01-16T11:43:42.981484Z"
    }
   },
   "outputs": [],
   "source": [
    "data['weekDay'] = data.timestamp.dt.weekday_name\n",
    "data['hour'] = data.timestamp.dt.hour"
   ]
  },
  {
   "cell_type": "code",
   "execution_count": 9,
   "metadata": {
    "ExecuteTime": {
     "end_time": "2020-01-16T11:43:43.131612Z",
     "start_time": "2020-01-16T11:43:43.120069Z"
    }
   },
   "outputs": [
    {
     "data": {
      "text/html": [
       "<div>\n",
       "<style scoped>\n",
       "    .dataframe tbody tr th:only-of-type {\n",
       "        vertical-align: middle;\n",
       "    }\n",
       "\n",
       "    .dataframe tbody tr th {\n",
       "        vertical-align: top;\n",
       "    }\n",
       "\n",
       "    .dataframe thead th {\n",
       "        text-align: right;\n",
       "    }\n",
       "</style>\n",
       "<table border=\"1\" class=\"dataframe\">\n",
       "  <thead>\n",
       "    <tr style=\"text-align: right;\">\n",
       "      <th></th>\n",
       "      <th>fullvisitorid</th>\n",
       "      <th>visitid</th>\n",
       "      <th>visitstarttime</th>\n",
       "      <th>productprice</th>\n",
       "      <th>medium</th>\n",
       "      <th>timestamp</th>\n",
       "      <th>weekDay</th>\n",
       "      <th>hour</th>\n",
       "    </tr>\n",
       "  </thead>\n",
       "  <tbody>\n",
       "    <tr>\n",
       "      <th>0</th>\n",
       "      <td>62419865028560645</td>\n",
       "      <td>1561470912</td>\n",
       "      <td>1561470912</td>\n",
       "      <td>2299</td>\n",
       "      <td>cpc</td>\n",
       "      <td>2019-06-25 13:55:12</td>\n",
       "      <td>Tuesday</td>\n",
       "      <td>13</td>\n",
       "    </tr>\n",
       "    <tr>\n",
       "      <th>1</th>\n",
       "      <td>62419865028560645</td>\n",
       "      <td>1561470912</td>\n",
       "      <td>1561470912</td>\n",
       "      <td>2299</td>\n",
       "      <td>cpc</td>\n",
       "      <td>2019-06-25 13:55:12</td>\n",
       "      <td>Tuesday</td>\n",
       "      <td>13</td>\n",
       "    </tr>\n",
       "    <tr>\n",
       "      <th>2</th>\n",
       "      <td>876310760299576265</td>\n",
       "      <td>1561470989</td>\n",
       "      <td>1561470989</td>\n",
       "      <td>4619</td>\n",
       "      <td>cpc</td>\n",
       "      <td>2019-06-25 13:56:29</td>\n",
       "      <td>Tuesday</td>\n",
       "      <td>13</td>\n",
       "    </tr>\n",
       "    <tr>\n",
       "      <th>3</th>\n",
       "      <td>876310760299576265</td>\n",
       "      <td>1561470989</td>\n",
       "      <td>1561470989</td>\n",
       "      <td>10919</td>\n",
       "      <td>cpc</td>\n",
       "      <td>2019-06-25 13:56:29</td>\n",
       "      <td>Tuesday</td>\n",
       "      <td>13</td>\n",
       "    </tr>\n",
       "    <tr>\n",
       "      <th>4</th>\n",
       "      <td>370703817199724574</td>\n",
       "      <td>1561471006</td>\n",
       "      <td>1561471006</td>\n",
       "      <td>6995</td>\n",
       "      <td>cpc</td>\n",
       "      <td>2019-06-25 13:56:46</td>\n",
       "      <td>Tuesday</td>\n",
       "      <td>13</td>\n",
       "    </tr>\n",
       "  </tbody>\n",
       "</table>\n",
       "</div>"
      ],
      "text/plain": [
       "        fullvisitorid     visitid visitstarttime productprice medium  \\\n",
       "0   62419865028560645  1561470912     1561470912         2299    cpc   \n",
       "1   62419865028560645  1561470912     1561470912         2299    cpc   \n",
       "2  876310760299576265  1561470989     1561470989         4619    cpc   \n",
       "3  876310760299576265  1561470989     1561470989        10919    cpc   \n",
       "4  370703817199724574  1561471006     1561471006         6995    cpc   \n",
       "\n",
       "            timestamp  weekDay  hour  \n",
       "0 2019-06-25 13:55:12  Tuesday    13  \n",
       "1 2019-06-25 13:55:12  Tuesday    13  \n",
       "2 2019-06-25 13:56:29  Tuesday    13  \n",
       "3 2019-06-25 13:56:29  Tuesday    13  \n",
       "4 2019-06-25 13:56:46  Tuesday    13  "
      ]
     },
     "execution_count": 9,
     "metadata": {},
     "output_type": "execute_result"
    }
   ],
   "source": [
    "data.head()"
   ]
  },
  {
   "cell_type": "markdown",
   "metadata": {},
   "source": [
    "# Alle Kanäle"
   ]
  },
  {
   "cell_type": "code",
   "execution_count": 10,
   "metadata": {
    "ExecuteTime": {
     "end_time": "2020-01-16T11:43:43.334865Z",
     "start_time": "2020-01-16T11:43:43.133024Z"
    }
   },
   "outputs": [],
   "source": [
    "data_wd_h = data.groupby(['weekDay','hour'])['visitid'].count()"
   ]
  },
  {
   "cell_type": "code",
   "execution_count": 11,
   "metadata": {
    "ExecuteTime": {
     "end_time": "2020-01-16T11:43:43.590137Z",
     "start_time": "2020-01-16T11:43:43.336130Z"
    }
   },
   "outputs": [],
   "source": [
    "df1 = data.groupby(['weekDay','hour']).agg({'visitid': ['count'],'productprice': ['sum']})"
   ]
  },
  {
   "cell_type": "code",
   "execution_count": null,
   "metadata": {
    "ExecuteTime": {
     "end_time": "2019-08-29T06:47:30.195284Z",
     "start_time": "2019-08-29T06:47:30.186284Z"
    }
   },
   "outputs": [],
   "source": []
  },
  {
   "cell_type": "code",
   "execution_count": 12,
   "metadata": {
    "ExecuteTime": {
     "end_time": "2020-01-16T11:43:43.598049Z",
     "start_time": "2020-01-16T11:43:43.591585Z"
    }
   },
   "outputs": [],
   "source": [
    "df3_id = df1.visitid.unstack().loc[:,'count']\n",
    "#df3_pprice = df2.pprice.unstack().loc[:,'sum']"
   ]
  },
  {
   "cell_type": "code",
   "execution_count": 13,
   "metadata": {
    "ExecuteTime": {
     "end_time": "2020-01-16T11:43:43.602826Z",
     "start_time": "2020-01-16T11:43:43.599416Z"
    }
   },
   "outputs": [],
   "source": [
    "df4_id = df3_id.loc[['Monday','Tuesday','Wednesday','Thursday','Friday','Saturday','Sunday',],:]\n",
    "#df4_pprice = df3_pprice.loc[['Monday','Tuesday','Wednesday','Thursday','Friday','Saturday','Sunday',],:]"
   ]
  },
  {
   "cell_type": "code",
   "execution_count": 14,
   "metadata": {
    "ExecuteTime": {
     "end_time": "2020-01-16T11:43:43.617561Z",
     "start_time": "2020-01-16T11:43:43.604347Z"
    }
   },
   "outputs": [],
   "source": [
    "df5_id = df4_id.apply(lambda x:x/x.sum(),axis=1)\n",
    "#df5_pprice = df4_pprice.apply(lambda x:x/x.sum(),axis=1)"
   ]
  },
  {
   "cell_type": "code",
   "execution_count": 15,
   "metadata": {
    "ExecuteTime": {
     "end_time": "2020-01-16T11:43:43.630451Z",
     "start_time": "2020-01-16T11:43:43.618872Z"
    }
   },
   "outputs": [
    {
     "data": {
      "text/html": [
       "<div>\n",
       "<style scoped>\n",
       "    .dataframe tbody tr th:only-of-type {\n",
       "        vertical-align: middle;\n",
       "    }\n",
       "\n",
       "    .dataframe tbody tr th {\n",
       "        vertical-align: top;\n",
       "    }\n",
       "\n",
       "    .dataframe thead th {\n",
       "        text-align: right;\n",
       "    }\n",
       "</style>\n",
       "<table border=\"1\" class=\"dataframe\">\n",
       "  <thead>\n",
       "    <tr style=\"text-align: right;\">\n",
       "      <th>hour</th>\n",
       "      <th>0</th>\n",
       "      <th>1</th>\n",
       "      <th>2</th>\n",
       "      <th>3</th>\n",
       "      <th>4</th>\n",
       "      <th>5</th>\n",
       "      <th>6</th>\n",
       "      <th>7</th>\n",
       "      <th>8</th>\n",
       "      <th>9</th>\n",
       "      <th>10</th>\n",
       "      <th>11</th>\n",
       "      <th>12</th>\n",
       "      <th>13</th>\n",
       "      <th>14</th>\n",
       "      <th>15</th>\n",
       "      <th>16</th>\n",
       "      <th>17</th>\n",
       "      <th>18</th>\n",
       "      <th>19</th>\n",
       "      <th>20</th>\n",
       "      <th>21</th>\n",
       "      <th>22</th>\n",
       "      <th>23</th>\n",
       "    </tr>\n",
       "    <tr>\n",
       "      <th>weekDay</th>\n",
       "      <th></th>\n",
       "      <th></th>\n",
       "      <th></th>\n",
       "      <th></th>\n",
       "      <th></th>\n",
       "      <th></th>\n",
       "      <th></th>\n",
       "      <th></th>\n",
       "      <th></th>\n",
       "      <th></th>\n",
       "      <th></th>\n",
       "      <th></th>\n",
       "      <th></th>\n",
       "      <th></th>\n",
       "      <th></th>\n",
       "      <th></th>\n",
       "      <th></th>\n",
       "      <th></th>\n",
       "      <th></th>\n",
       "      <th></th>\n",
       "      <th></th>\n",
       "      <th></th>\n",
       "      <th></th>\n",
       "      <th></th>\n",
       "    </tr>\n",
       "  </thead>\n",
       "  <tbody>\n",
       "    <tr>\n",
       "      <th>Monday</th>\n",
       "      <td>277</td>\n",
       "      <td>166</td>\n",
       "      <td>163</td>\n",
       "      <td>242</td>\n",
       "      <td>584</td>\n",
       "      <td>1375</td>\n",
       "      <td>2462</td>\n",
       "      <td>3894</td>\n",
       "      <td>6826</td>\n",
       "      <td>7145</td>\n",
       "      <td>6328</td>\n",
       "      <td>6375</td>\n",
       "      <td>5917</td>\n",
       "      <td>5872</td>\n",
       "      <td>6349</td>\n",
       "      <td>6399</td>\n",
       "      <td>6248</td>\n",
       "      <td>6342</td>\n",
       "      <td>5532</td>\n",
       "      <td>4526</td>\n",
       "      <td>3272</td>\n",
       "      <td>1889</td>\n",
       "      <td>1017</td>\n",
       "      <td>642</td>\n",
       "    </tr>\n",
       "    <tr>\n",
       "      <th>Tuesday</th>\n",
       "      <td>325</td>\n",
       "      <td>177</td>\n",
       "      <td>221</td>\n",
       "      <td>695</td>\n",
       "      <td>725</td>\n",
       "      <td>1533</td>\n",
       "      <td>2208</td>\n",
       "      <td>3448</td>\n",
       "      <td>4400</td>\n",
       "      <td>4785</td>\n",
       "      <td>4569</td>\n",
       "      <td>5015</td>\n",
       "      <td>5471</td>\n",
       "      <td>4974</td>\n",
       "      <td>5718</td>\n",
       "      <td>6602</td>\n",
       "      <td>5995</td>\n",
       "      <td>5795</td>\n",
       "      <td>5615</td>\n",
       "      <td>4435</td>\n",
       "      <td>3258</td>\n",
       "      <td>1966</td>\n",
       "      <td>1117</td>\n",
       "      <td>584</td>\n",
       "    </tr>\n",
       "    <tr>\n",
       "      <th>Wednesday</th>\n",
       "      <td>299</td>\n",
       "      <td>187</td>\n",
       "      <td>121</td>\n",
       "      <td>292</td>\n",
       "      <td>732</td>\n",
       "      <td>1392</td>\n",
       "      <td>2792</td>\n",
       "      <td>3732</td>\n",
       "      <td>5623</td>\n",
       "      <td>6158</td>\n",
       "      <td>5770</td>\n",
       "      <td>5336</td>\n",
       "      <td>5468</td>\n",
       "      <td>5621</td>\n",
       "      <td>5992</td>\n",
       "      <td>6474</td>\n",
       "      <td>6120</td>\n",
       "      <td>5729</td>\n",
       "      <td>5314</td>\n",
       "      <td>4529</td>\n",
       "      <td>3486</td>\n",
       "      <td>2303</td>\n",
       "      <td>1341</td>\n",
       "      <td>662</td>\n",
       "    </tr>\n",
       "    <tr>\n",
       "      <th>Thursday</th>\n",
       "      <td>340</td>\n",
       "      <td>209</td>\n",
       "      <td>170</td>\n",
       "      <td>364</td>\n",
       "      <td>944</td>\n",
       "      <td>1571</td>\n",
       "      <td>2425</td>\n",
       "      <td>3897</td>\n",
       "      <td>5323</td>\n",
       "      <td>5433</td>\n",
       "      <td>4802</td>\n",
       "      <td>4780</td>\n",
       "      <td>5186</td>\n",
       "      <td>5338</td>\n",
       "      <td>5323</td>\n",
       "      <td>6010</td>\n",
       "      <td>5555</td>\n",
       "      <td>5307</td>\n",
       "      <td>4995</td>\n",
       "      <td>4218</td>\n",
       "      <td>3276</td>\n",
       "      <td>1943</td>\n",
       "      <td>1032</td>\n",
       "      <td>575</td>\n",
       "    </tr>\n",
       "    <tr>\n",
       "      <th>Friday</th>\n",
       "      <td>224</td>\n",
       "      <td>137</td>\n",
       "      <td>253</td>\n",
       "      <td>350</td>\n",
       "      <td>634</td>\n",
       "      <td>1370</td>\n",
       "      <td>2642</td>\n",
       "      <td>3062</td>\n",
       "      <td>3864</td>\n",
       "      <td>3950</td>\n",
       "      <td>4063</td>\n",
       "      <td>4315</td>\n",
       "      <td>4694</td>\n",
       "      <td>5166</td>\n",
       "      <td>5761</td>\n",
       "      <td>5828</td>\n",
       "      <td>5014</td>\n",
       "      <td>4759</td>\n",
       "      <td>4612</td>\n",
       "      <td>4032</td>\n",
       "      <td>3007</td>\n",
       "      <td>1849</td>\n",
       "      <td>1176</td>\n",
       "      <td>680</td>\n",
       "    </tr>\n",
       "    <tr>\n",
       "      <th>Saturday</th>\n",
       "      <td>291</td>\n",
       "      <td>217</td>\n",
       "      <td>190</td>\n",
       "      <td>321</td>\n",
       "      <td>536</td>\n",
       "      <td>951</td>\n",
       "      <td>2029</td>\n",
       "      <td>2842</td>\n",
       "      <td>6063</td>\n",
       "      <td>6529</td>\n",
       "      <td>6429</td>\n",
       "      <td>6669</td>\n",
       "      <td>6702</td>\n",
       "      <td>7097</td>\n",
       "      <td>7152</td>\n",
       "      <td>7146</td>\n",
       "      <td>7036</td>\n",
       "      <td>6548</td>\n",
       "      <td>5661</td>\n",
       "      <td>4217</td>\n",
       "      <td>3687</td>\n",
       "      <td>2228</td>\n",
       "      <td>1745</td>\n",
       "      <td>744</td>\n",
       "    </tr>\n",
       "    <tr>\n",
       "      <th>Sunday</th>\n",
       "      <td>283</td>\n",
       "      <td>328</td>\n",
       "      <td>159</td>\n",
       "      <td>224</td>\n",
       "      <td>554</td>\n",
       "      <td>1149</td>\n",
       "      <td>2457</td>\n",
       "      <td>4648</td>\n",
       "      <td>6499</td>\n",
       "      <td>6938</td>\n",
       "      <td>6405</td>\n",
       "      <td>6242</td>\n",
       "      <td>6250</td>\n",
       "      <td>7406</td>\n",
       "      <td>7332</td>\n",
       "      <td>8095</td>\n",
       "      <td>7407</td>\n",
       "      <td>6978</td>\n",
       "      <td>6294</td>\n",
       "      <td>5308</td>\n",
       "      <td>3987</td>\n",
       "      <td>2323</td>\n",
       "      <td>1075</td>\n",
       "      <td>635</td>\n",
       "    </tr>\n",
       "  </tbody>\n",
       "</table>\n",
       "</div>"
      ],
      "text/plain": [
       "hour        0    1    2    3    4     5     6     7     8     9     10    11  \\\n",
       "weekDay                                                                        \n",
       "Monday     277  166  163  242  584  1375  2462  3894  6826  7145  6328  6375   \n",
       "Tuesday    325  177  221  695  725  1533  2208  3448  4400  4785  4569  5015   \n",
       "Wednesday  299  187  121  292  732  1392  2792  3732  5623  6158  5770  5336   \n",
       "Thursday   340  209  170  364  944  1571  2425  3897  5323  5433  4802  4780   \n",
       "Friday     224  137  253  350  634  1370  2642  3062  3864  3950  4063  4315   \n",
       "Saturday   291  217  190  321  536   951  2029  2842  6063  6529  6429  6669   \n",
       "Sunday     283  328  159  224  554  1149  2457  4648  6499  6938  6405  6242   \n",
       "\n",
       "hour         12    13    14    15    16    17    18    19    20    21    22  \\\n",
       "weekDay                                                                       \n",
       "Monday     5917  5872  6349  6399  6248  6342  5532  4526  3272  1889  1017   \n",
       "Tuesday    5471  4974  5718  6602  5995  5795  5615  4435  3258  1966  1117   \n",
       "Wednesday  5468  5621  5992  6474  6120  5729  5314  4529  3486  2303  1341   \n",
       "Thursday   5186  5338  5323  6010  5555  5307  4995  4218  3276  1943  1032   \n",
       "Friday     4694  5166  5761  5828  5014  4759  4612  4032  3007  1849  1176   \n",
       "Saturday   6702  7097  7152  7146  7036  6548  5661  4217  3687  2228  1745   \n",
       "Sunday     6250  7406  7332  8095  7407  6978  6294  5308  3987  2323  1075   \n",
       "\n",
       "hour        23  \n",
       "weekDay         \n",
       "Monday     642  \n",
       "Tuesday    584  \n",
       "Wednesday  662  \n",
       "Thursday   575  \n",
       "Friday     680  \n",
       "Saturday   744  \n",
       "Sunday     635  "
      ]
     },
     "execution_count": 15,
     "metadata": {},
     "output_type": "execute_result"
    }
   ],
   "source": [
    "df4_id"
   ]
  },
  {
   "cell_type": "code",
   "execution_count": 16,
   "metadata": {
    "ExecuteTime": {
     "end_time": "2020-01-16T11:43:43.637409Z",
     "start_time": "2020-01-16T11:43:43.632019Z"
    }
   },
   "outputs": [
    {
     "data": {
      "text/html": [
       "<div>\n",
       "<style scoped>\n",
       "    .dataframe tbody tr th:only-of-type {\n",
       "        vertical-align: middle;\n",
       "    }\n",
       "\n",
       "    .dataframe tbody tr th {\n",
       "        vertical-align: top;\n",
       "    }\n",
       "\n",
       "    .dataframe thead th {\n",
       "        text-align: right;\n",
       "    }\n",
       "</style>\n",
       "<table border=\"1\" class=\"dataframe\">\n",
       "  <thead>\n",
       "    <tr style=\"text-align: right;\">\n",
       "      <th></th>\n",
       "      <th>0</th>\n",
       "    </tr>\n",
       "    <tr>\n",
       "      <th>weekDay</th>\n",
       "      <th></th>\n",
       "    </tr>\n",
       "  </thead>\n",
       "  <tbody>\n",
       "    <tr>\n",
       "      <th>Monday</th>\n",
       "      <td>89842</td>\n",
       "    </tr>\n",
       "    <tr>\n",
       "      <th>Tuesday</th>\n",
       "      <td>79631</td>\n",
       "    </tr>\n",
       "    <tr>\n",
       "      <th>Wednesday</th>\n",
       "      <td>85473</td>\n",
       "    </tr>\n",
       "    <tr>\n",
       "      <th>Thursday</th>\n",
       "      <td>79016</td>\n",
       "    </tr>\n",
       "    <tr>\n",
       "      <th>Friday</th>\n",
       "      <td>71442</td>\n",
       "    </tr>\n",
       "    <tr>\n",
       "      <th>Saturday</th>\n",
       "      <td>93030</td>\n",
       "    </tr>\n",
       "    <tr>\n",
       "      <th>Sunday</th>\n",
       "      <td>98976</td>\n",
       "    </tr>\n",
       "  </tbody>\n",
       "</table>\n",
       "</div>"
      ],
      "text/plain": [
       "               0\n",
       "weekDay         \n",
       "Monday     89842\n",
       "Tuesday    79631\n",
       "Wednesday  85473\n",
       "Thursday   79016\n",
       "Friday     71442\n",
       "Saturday   93030\n",
       "Sunday     98976"
      ]
     },
     "execution_count": 16,
     "metadata": {},
     "output_type": "execute_result"
    }
   ],
   "source": [
    "df4_id.sum(axis=1).to_frame()"
   ]
  },
  {
   "cell_type": "code",
   "execution_count": 17,
   "metadata": {
    "ExecuteTime": {
     "end_time": "2020-01-16T11:43:43.643509Z",
     "start_time": "2020-01-16T11:43:43.638636Z"
    }
   },
   "outputs": [
    {
     "data": {
      "text/plain": [
       "597410"
      ]
     },
     "execution_count": 17,
     "metadata": {},
     "output_type": "execute_result"
    }
   ],
   "source": [
    "df4_id.sum().sum()"
   ]
  },
  {
   "cell_type": "code",
   "execution_count": 2,
   "metadata": {
    "ExecuteTime": {
     "end_time": "2020-01-16T11:43:44.626999Z",
     "start_time": "2020-01-16T11:43:43.645086Z"
    }
   },
   "outputs": [],
   "source": [
    "fig, axs = plt.subplots(nrows=2, ncols=2, gridspec_kw = {'width_ratios':[1, 15]},figsize=(12,6))\n",
    "\n",
    "sns.heatmap(df4_id.sum(axis=1).to_frame()/df4_id.sum().sum()*100,cmap=\"binary_r\",linewidths=1,linecolor='grey',annot=True,fmt=\".2f\",annot_kws={\"size\": 8},cbar=False,ax=axs[1,0])\n",
    "axs[1,0].set_title(\"Taglicher % der\\n\\'add\\'-Ereignisse\")\n",
    "\n",
    "# hours\n",
    "sns.heatmap(df4_id.sum().to_frame().T/df4_id.sum().sum()*100,cmap=\"binary_r\",linewidths=1,linecolor='grey',annot=True,fmt=\".2f\",annot_kws={\"size\": 7},cbar=False,ax=axs[0,1])\n",
    "axs[0,1].set_title(\"Stündlicher % der\\n\\'add\\'-Ereignisse\")\n",
    "\n",
    "# mainplot\n",
    "sns.heatmap(df5_id*100,cmap=\"binary_r\",fmt=\".2f\",annot_kws={\"size\": 8},annot=True,cbar=False, ax=axs[1,1])#, fmt=\"f\",size=3)\n",
    "axs[1,1].set_title('Prozent der \\'add\\'-Ereignisse im Laufe des Tages und der Woche\\n\\\n",
    "Quelle: '+Marke+' alle Kanäle \\'add\\'-Ereignisse seit dem 2019-11-18 aus yyy')\n",
    "\n",
    "# remove the missing fourth plot\n",
    "fig.delaxes(axs[0,0])\n",
    "\n",
    "plt.tight_layout()\n",
    "plt.savefig(BU+'/UhrzeitAnalyse_Prozent_AlleKanaele_'+Marke+'.png')\n",
    "plt.show()"
   ]
  },
  {
   "cell_type": "markdown",
   "metadata": {},
   "source": [
    "![title](img/prima.png)"
   ]
  },
  {
   "cell_type": "code",
   "execution_count": 4,
   "metadata": {
    "ExecuteTime": {
     "end_time": "2020-01-16T11:43:45.602741Z",
     "start_time": "2020-01-16T11:43:44.628411Z"
    },
    "scrolled": false
   },
   "outputs": [],
   "source": [
    "fig, axs = plt.subplots(nrows=2, ncols=2, gridspec_kw = {'width_ratios':[1, 15]},figsize=(12,5))\n",
    "\n",
    "sns.heatmap(df4_id.sum(axis=1).to_frame(),cmap=\"binary_r\",linewidths=1,linecolor='grey',annot=True,fmt=\".0f\",annot_kws={\"size\": 8},cbar=False,ax=axs[1,0])\n",
    "axs[1,0].set_title(\"Taglicher Anzahl der \\n\\'add\\'-Ereignisse\")\n",
    "\n",
    "# hours\n",
    "sns.heatmap(df4_id.sum().to_frame().T,cmap=\"binary_r\",linewidths=1,linecolor='grey',annot=True,fmt=\".0f\",annot_kws={\"size\": 7},cbar=False,ax=axs[0,1])\n",
    "axs[0,1].set_title(\"Stündlicher Anzahl der\\n\\'add\\'-Ereignisse\")\n",
    "\n",
    "# mainplot\n",
    "sns.heatmap(df4_id,cmap=\"binary_r\",fmt=\".0f\",annot_kws={\"size\": 7},annot=True,cbar=False, ax=axs[1,1])#, fmt=\"f\",size=3)\n",
    "axs[1,1].set_title('Anzahl der \\'add\\'-Ereignisse im Laufe des Tages und der Woche\\n\\\n",
    "Quelle: '+Marke+' alle Kanäle \\'add\\'-Ereignisse seit dem 2019-11-18 aus yyy')\n",
    "\n",
    "# remove the missing fourth plot\n",
    "fig.delaxes(axs[0,0])\n",
    "\n",
    "plt.tight_layout()\n",
    "plt.savefig(BU+'/UhrzeitAnalyse_Roh-Daten_AlleKanaele_'+Marke+'.png')\n",
    "plt.show()"
   ]
  },
  {
   "cell_type": "markdown",
   "metadata": {},
   "source": [
    "![title](img/seconda.png)"
   ]
  },
  {
   "cell_type": "markdown",
   "metadata": {},
   "source": [
    "# Nur NL Daten"
   ]
  },
  {
   "cell_type": "code",
   "execution_count": 20,
   "metadata": {
    "ExecuteTime": {
     "end_time": "2020-01-16T11:43:45.654752Z",
     "start_time": "2020-01-16T11:43:45.604003Z"
    }
   },
   "outputs": [],
   "source": [
    "data_nl = data[(data.medium=='mail') | (data.medium=='newsletter')]"
   ]
  },
  {
   "cell_type": "code",
   "execution_count": 21,
   "metadata": {
    "ExecuteTime": {
     "end_time": "2020-01-16T11:43:45.711893Z",
     "start_time": "2020-01-16T11:43:45.656196Z"
    }
   },
   "outputs": [],
   "source": [
    "df1_nl = data_nl.groupby(['weekDay','hour']).agg({'visitid': ['count'],'productprice': ['sum']})"
   ]
  },
  {
   "cell_type": "code",
   "execution_count": 22,
   "metadata": {
    "ExecuteTime": {
     "end_time": "2020-01-16T11:43:45.721538Z",
     "start_time": "2020-01-16T11:43:45.713424Z"
    }
   },
   "outputs": [
    {
     "data": {
      "text/html": [
       "<div>\n",
       "<style scoped>\n",
       "    .dataframe tbody tr th:only-of-type {\n",
       "        vertical-align: middle;\n",
       "    }\n",
       "\n",
       "    .dataframe tbody tr th {\n",
       "        vertical-align: top;\n",
       "    }\n",
       "\n",
       "    .dataframe thead tr th {\n",
       "        text-align: left;\n",
       "    }\n",
       "\n",
       "    .dataframe thead tr:last-of-type th {\n",
       "        text-align: right;\n",
       "    }\n",
       "</style>\n",
       "<table border=\"1\" class=\"dataframe\">\n",
       "  <thead>\n",
       "    <tr>\n",
       "      <th></th>\n",
       "      <th></th>\n",
       "      <th>visitid</th>\n",
       "      <th>productprice</th>\n",
       "    </tr>\n",
       "    <tr>\n",
       "      <th></th>\n",
       "      <th></th>\n",
       "      <th>count</th>\n",
       "      <th>sum</th>\n",
       "    </tr>\n",
       "    <tr>\n",
       "      <th>weekDay</th>\n",
       "      <th>hour</th>\n",
       "      <th></th>\n",
       "      <th></th>\n",
       "    </tr>\n",
       "  </thead>\n",
       "  <tbody>\n",
       "    <tr>\n",
       "      <th rowspan=\"5\" valign=\"top\">Friday</th>\n",
       "      <th>0</th>\n",
       "      <td>31</td>\n",
       "      <td>4999499922991499229918992999299917599349935991...</td>\n",
       "    </tr>\n",
       "    <tr>\n",
       "      <th>1</th>\n",
       "      <td>2</td>\n",
       "      <td>65998995</td>\n",
       "    </tr>\n",
       "    <tr>\n",
       "      <th>2</th>\n",
       "      <td>39</td>\n",
       "      <td>8999899969994599459949998499599999992495499989...</td>\n",
       "    </tr>\n",
       "    <tr>\n",
       "      <th>3</th>\n",
       "      <td>23</td>\n",
       "      <td>6499649964992299559945996495699575994499299969...</td>\n",
       "    </tr>\n",
       "    <tr>\n",
       "      <th>4</th>\n",
       "      <td>53</td>\n",
       "      <td>0379959995999849959996499899959997499749944994...</td>\n",
       "    </tr>\n",
       "  </tbody>\n",
       "</table>\n",
       "</div>"
      ],
      "text/plain": [
       "             visitid                                       productprice\n",
       "               count                                                sum\n",
       "weekDay hour                                                           \n",
       "Friday  0         31  4999499922991499229918992999299917599349935991...\n",
       "        1          2                                           65998995\n",
       "        2         39  8999899969994599459949998499599999992495499989...\n",
       "        3         23  6499649964992299559945996495699575994499299969...\n",
       "        4         53  0379959995999849959996499899959997499749944994..."
      ]
     },
     "execution_count": 22,
     "metadata": {},
     "output_type": "execute_result"
    }
   ],
   "source": [
    "df1_nl.head()"
   ]
  },
  {
   "cell_type": "code",
   "execution_count": 23,
   "metadata": {
    "ExecuteTime": {
     "end_time": "2020-01-16T11:43:45.731206Z",
     "start_time": "2020-01-16T11:43:45.724872Z"
    }
   },
   "outputs": [],
   "source": [
    "df3_nl_id = df1_nl.visitid.unstack().loc[:,'count']"
   ]
  },
  {
   "cell_type": "code",
   "execution_count": 24,
   "metadata": {
    "ExecuteTime": {
     "end_time": "2020-01-16T11:43:45.741112Z",
     "start_time": "2020-01-16T11:43:45.733163Z"
    }
   },
   "outputs": [],
   "source": [
    "df4_nl_id = df3_nl_id.loc[['Monday','Tuesday','Wednesday','Thursday','Friday','Saturday','Sunday',],:]\n",
    "df5_nl_id = df4_nl_id.apply(lambda x:x/x.sum(),axis=1)\n",
    "# df5_nl_id.compute()"
   ]
  },
  {
   "cell_type": "code",
   "execution_count": 5,
   "metadata": {
    "ExecuteTime": {
     "end_time": "2020-01-16T11:43:46.735884Z",
     "start_time": "2020-01-16T11:43:45.742982Z"
    }
   },
   "outputs": [],
   "source": [
    "fig, axs = plt.subplots(nrows=2, ncols=2, gridspec_kw = {'width_ratios':[1, 15]},figsize=(12,5))\n",
    "\n",
    "sns.heatmap(df4_nl_id.sum(axis=1).to_frame()/df4_nl_id.sum().sum()*100,cmap=\"binary_r\",linewidths=1,linecolor='grey',annot=True,fmt=\".2f\",annot_kws={\"size\": 8},cbar=False,ax=axs[1,0])\n",
    "axs[1,0].set_title(\"Taglicher % der\\n\\'add\\'-Ereignisse\")\n",
    "\n",
    "# hours\n",
    "sns.heatmap(df4_nl_id.sum().to_frame().T/df4_nl_id.sum().sum()*100,cmap=\"binary_r\",linewidths=1,linecolor='grey',annot=True,fmt=\".2f\",annot_kws={\"size\": 7},cbar=False,ax=axs[0,1])\n",
    "axs[0,1].set_title(\"Stündlicher % der\\n\\'add\\'-Ereignisse\")\n",
    "\n",
    "# mainplot\n",
    "sns.heatmap(df5_nl_id*100,cmap=\"binary_r\",fmt=\".2f\",annot_kws={\"size\": 8},annot=True,cbar=False, ax=axs[1,1])#, fmt=\"f\",size=3)\n",
    "axs[1,1].set_title('Prozent der \\'add\\'-Ereignisse im Laufe des Tages und der Woche\\n\\\n",
    "Quelle: '+Marke+' nur NL \\'add\\'-Ereignisse seit dem 22019-05-08 aus yyy')\n",
    "\n",
    "# remove the missing fourth plot\n",
    "fig.delaxes(axs[0,0])\n",
    "\n",
    "plt.tight_layout()\n",
    "plt.savefig(BU+'/UhrzeitAnalyse_Prozent_NurNL_'+Marke+'.png')\n",
    "plt.show()"
   ]
  },
  {
   "cell_type": "markdown",
   "metadata": {},
   "source": [
    "![title](img/terza.png)"
   ]
  },
  {
   "cell_type": "code",
   "execution_count": 6,
   "metadata": {
    "ExecuteTime": {
     "end_time": "2020-01-16T11:43:47.666240Z",
     "start_time": "2020-01-16T11:43:46.737457Z"
    }
   },
   "outputs": [],
   "source": [
    "fig, axs = plt.subplots(nrows=2, ncols=2, gridspec_kw = {'width_ratios':[1, 15]},figsize=(12,5))\n",
    "\n",
    "# weekday\n",
    "sns.heatmap(df4_nl_id.sum(axis=1).to_frame(),cmap=\"binary_r\",linewidths=1,linecolor='grey',annot=True,fmt=\".0f\",annot_kws={\"size\": 8},cbar=False,ax=axs[1,0])\n",
    "axs[1,0].set_title(\"Taglicher Anzahl der \\n\\'add\\'-Ereignisse\")\n",
    "\n",
    "# hours\n",
    "sns.heatmap(df4_nl_id.sum().to_frame().T,cmap=\"binary_r\",linewidths=1,linecolor='grey',annot=True,fmt=\".0f\",annot_kws={\"size\": 7},cbar=False,ax=axs[0,1])\n",
    "axs[0,1].set_title(\"Stündlicher Anzahl der\\n\\'add\\'-Ereignisse\")\n",
    "\n",
    "# mainplot\n",
    "sns.heatmap(df4_nl_id,cmap=\"binary_r\",fmt=\".0f\",annot_kws={\"size\": 7},annot=True,cbar=False, ax=axs[1,1])#, fmt=\"f\",size=3)\n",
    "axs[1,1].set_title('Anzahl der \\'add\\'-Ereignisse im Laufe des Tages und der Woche\\n\\\n",
    "Quelle: '+Marke+' nur NL \\'add\\'-Ereignisse seit dem 2019-05-08 aus yyy')\n",
    "\n",
    "# remove the missing fourth plot\n",
    "fig.delaxes(axs[0,0])\n",
    "\n",
    "plt.tight_layout()\n",
    "plt.savefig(BU+'/UhrzeitAnalyse_Roh-Daten_NurNL_'+Marke+'.png')\n",
    "plt.show()"
   ]
  },
  {
   "cell_type": "markdown",
   "metadata": {},
   "source": [
    "![title](img/quarta.png)"
   ]
  },
  {
   "cell_type": "markdown",
   "metadata": {},
   "source": [
    "# Nicht NL-Daten\n",
    "\n",
    "I removed the images here!"
   ]
  },
  {
   "cell_type": "code",
   "execution_count": 27,
   "metadata": {
    "ExecuteTime": {
     "end_time": "2020-01-16T11:43:47.780883Z",
     "start_time": "2020-01-16T11:43:47.667699Z"
    }
   },
   "outputs": [],
   "source": [
    "selection = (data.medium=='mail') | (data.medium=='newsletter')\n",
    "data_Nnl = data[~selection]"
   ]
  },
  {
   "cell_type": "code",
   "execution_count": 28,
   "metadata": {
    "ExecuteTime": {
     "end_time": "2020-01-16T11:43:48.035957Z",
     "start_time": "2020-01-16T11:43:47.782370Z"
    }
   },
   "outputs": [],
   "source": [
    "df1_Nnl = data_Nnl.groupby(['weekDay','hour']).agg({'visitid': ['count'],'productprice': ['sum']})"
   ]
  },
  {
   "cell_type": "code",
   "execution_count": 29,
   "metadata": {
    "ExecuteTime": {
     "end_time": "2020-01-16T11:43:48.045562Z",
     "start_time": "2020-01-16T11:43:48.037167Z"
    }
   },
   "outputs": [
    {
     "data": {
      "text/html": [
       "<div>\n",
       "<style scoped>\n",
       "    .dataframe tbody tr th:only-of-type {\n",
       "        vertical-align: middle;\n",
       "    }\n",
       "\n",
       "    .dataframe tbody tr th {\n",
       "        vertical-align: top;\n",
       "    }\n",
       "\n",
       "    .dataframe thead tr th {\n",
       "        text-align: left;\n",
       "    }\n",
       "\n",
       "    .dataframe thead tr:last-of-type th {\n",
       "        text-align: right;\n",
       "    }\n",
       "</style>\n",
       "<table border=\"1\" class=\"dataframe\">\n",
       "  <thead>\n",
       "    <tr>\n",
       "      <th></th>\n",
       "      <th></th>\n",
       "      <th>visitid</th>\n",
       "      <th>productprice</th>\n",
       "    </tr>\n",
       "    <tr>\n",
       "      <th></th>\n",
       "      <th></th>\n",
       "      <th>count</th>\n",
       "      <th>sum</th>\n",
       "    </tr>\n",
       "    <tr>\n",
       "      <th>weekDay</th>\n",
       "      <th>hour</th>\n",
       "      <th></th>\n",
       "      <th></th>\n",
       "    </tr>\n",
       "  </thead>\n",
       "  <tbody>\n",
       "    <tr>\n",
       "      <th rowspan=\"5\" valign=\"top\">Friday</th>\n",
       "      <th>0</th>\n",
       "      <td>193</td>\n",
       "      <td>4999499979996999599959995999799917999559955999...</td>\n",
       "    </tr>\n",
       "    <tr>\n",
       "      <th>1</th>\n",
       "      <td>135</td>\n",
       "      <td>4599229939994999499949992299911999109997599119...</td>\n",
       "    </tr>\n",
       "    <tr>\n",
       "      <th>2</th>\n",
       "      <td>214</td>\n",
       "      <td>2999299979997493999399949996999659965991099589...</td>\n",
       "    </tr>\n",
       "    <tr>\n",
       "      <th>3</th>\n",
       "      <td>327</td>\n",
       "      <td>2999299935995599659945995599559965992999229922...</td>\n",
       "    </tr>\n",
       "    <tr>\n",
       "      <th>4</th>\n",
       "      <td>581</td>\n",
       "      <td>3599489948991499299927998491599559914991499149...</td>\n",
       "    </tr>\n",
       "  </tbody>\n",
       "</table>\n",
       "</div>"
      ],
      "text/plain": [
       "             visitid                                       productprice\n",
       "               count                                                sum\n",
       "weekDay hour                                                           \n",
       "Friday  0        193  4999499979996999599959995999799917999559955999...\n",
       "        1        135  4599229939994999499949992299911999109997599119...\n",
       "        2        214  2999299979997493999399949996999659965991099589...\n",
       "        3        327  2999299935995599659945995599559965992999229922...\n",
       "        4        581  3599489948991499299927998491599559914991499149..."
      ]
     },
     "execution_count": 29,
     "metadata": {},
     "output_type": "execute_result"
    }
   ],
   "source": [
    "df1_Nnl.head()"
   ]
  },
  {
   "cell_type": "code",
   "execution_count": 30,
   "metadata": {
    "ExecuteTime": {
     "end_time": "2020-01-16T11:43:48.054299Z",
     "start_time": "2020-01-16T11:43:48.047121Z"
    }
   },
   "outputs": [],
   "source": [
    "df3_Nnl_id = df1_Nnl.visitid.unstack().loc[:,'count']"
   ]
  },
  {
   "cell_type": "code",
   "execution_count": 31,
   "metadata": {
    "ExecuteTime": {
     "end_time": "2020-01-16T11:43:48.063970Z",
     "start_time": "2020-01-16T11:43:48.055691Z"
    }
   },
   "outputs": [],
   "source": [
    "df4_Nnl_id = df3_Nnl_id.loc[['Monday','Tuesday','Wednesday','Thursday','Friday','Saturday','Sunday',],:]\n",
    "df5_Nnl_id = df4_Nnl_id.apply(lambda x:x/x.sum(),axis=1)\n",
    "# df5_nl_id.compute()"
   ]
  },
  {
   "cell_type": "code",
   "execution_count": 7,
   "metadata": {
    "ExecuteTime": {
     "end_time": "2020-01-16T11:43:49.064634Z",
     "start_time": "2020-01-16T11:43:48.065497Z"
    }
   },
   "outputs": [],
   "source": [
    "fig, axs = plt.subplots(nrows=2, ncols=2, gridspec_kw = {'width_ratios':[1, 15]},figsize=(12,5))\n",
    "#fig.figure(figsize=(10,10))\n",
    "\n",
    "# axs[0].plot(x1, y1, 'o-')\n",
    "\n",
    "# weekday\n",
    "sns.heatmap(df4_Nnl_id.sum(axis=1).to_frame()/df4_Nnl_id.sum().sum()*100,cmap=\"binary_r\",linewidths=1,linecolor='grey',annot=True,fmt=\".2f\",annot_kws={\"size\": 8},cbar=False,ax=axs[1,0])\n",
    "axs[1,0].set_title(\"Taglicher % der\\n\\'add\\'-Ereignisse\")\n",
    "\n",
    "# hours\n",
    "sns.heatmap(df4_Nnl_id.sum().to_frame().T/df4_Nnl_id.sum().sum()*100,cmap=\"binary_r\",linewidths=1,linecolor='grey',annot=True,fmt=\".2f\",annot_kws={\"size\": 7},cbar=False,ax=axs[0,1])\n",
    "axs[0,1].set_title(\"Stündlicher % der\\n\\'add\\'-Ereignisse\")\n",
    "\n",
    "# mainplot\n",
    "sns.heatmap(df5_Nnl_id*100,cmap=\"binary_r\",fmt=\".2f\",annot_kws={\"size\": 8},annot=True,cbar=False, ax=axs[1,1])#, fmt=\"f\",size=3)\n",
    "axs[1,1].set_title('Prozent der \\'add\\'-Ereignisse im Laufe des Tages und der Woche\\n\\\n",
    "Quelle: '+Marke+' nicht NL \\'add\\'-Ereignisse seit dem 2019-05-08 aus yyy')\n",
    "\n",
    "# remove the missing fourth plot\n",
    "fig.delaxes(axs[0,0])\n",
    "\n",
    "plt.tight_layout()\n",
    "plt.savefig(BU+'/UhrzeitAnalyse_Prozent_NichNL_'+Marke+'.png')\n",
    "plt.show()"
   ]
  },
  {
   "cell_type": "code",
   "execution_count": 8,
   "metadata": {
    "ExecuteTime": {
     "end_time": "2020-01-16T11:43:50.009004Z",
     "start_time": "2020-01-16T11:43:49.066028Z"
    }
   },
   "outputs": [],
   "source": [
    "fig, axs = plt.subplots(nrows=2, ncols=2, gridspec_kw = {'width_ratios':[1, 15]},figsize=(12,5))\n",
    "#fig.figure(figsize=(10,10))\n",
    "\n",
    "# axs[0].plot(x1, y1, 'o-')\n",
    "\n",
    "# weekday\n",
    "sns.heatmap(df4_Nnl_id.sum(axis=1).to_frame(),cmap=\"binary_r\",linewidths=1,linecolor='grey',annot=True,fmt=\".0f\",annot_kws={\"size\": 8},cbar=False,ax=axs[1,0])\n",
    "axs[1,0].set_title(\"Taglicher Anzahl der \\n\\'add\\'-Ereignisse\")\n",
    "\n",
    "# hours\n",
    "sns.heatmap(df4_Nnl_id.sum().to_frame().T,cmap=\"binary_r\",linewidths=1,linecolor='grey',annot=True,fmt=\".0f\",annot_kws={\"size\": 7},cbar=False,ax=axs[0,1])\n",
    "axs[0,1].set_title(\"Stündlicher Anzahl der\\n\\'add\\'-Ereignisse\")\n",
    "\n",
    "# mainplot\n",
    "sns.heatmap(df4_Nnl_id,cmap=\"binary_r\",fmt=\".0f\",annot_kws={\"size\": 7},annot=True,cbar=False, ax=axs[1,1])#, fmt=\"f\",size=3)\n",
    "axs[1,1].set_title('Anzahl der \\'add\\'-Ereignisse im Laufe des Tages und der Woche\\n\\\n",
    "Quelle: '+Marke+' nicht NL \\'add\\'-Ereignisse seit dem 2019-05-08 aus yyy')\n",
    "\n",
    "# remove the missing fourth plot\n",
    "fig.delaxes(axs[0,0])\n",
    "\n",
    "plt.tight_layout()\n",
    "plt.savefig(BU+'/UhrzeitAnalyse_Roh-Daten_nichtNL_'+Marke+'.png')\n",
    "plt.show()"
   ]
  },
  {
   "cell_type": "markdown",
   "metadata": {},
   "source": [
    "## Exportiere Alles"
   ]
  },
  {
   "cell_type": "code",
   "execution_count": 34,
   "metadata": {
    "ExecuteTime": {
     "end_time": "2020-01-16T11:43:50.020209Z",
     "start_time": "2020-01-16T11:43:50.010384Z"
    }
   },
   "outputs": [],
   "source": [
    "df4_nl_id.to_csv(BU+'/Uhrzeitanalyse_'+Marke+'_nurNL.csv',decimal=',',sep=';')\n",
    "df4_id.to_csv(BU+'/Uhrzeitanalyse_'+Marke+'_Gesamt.csv',decimal=',',sep=';')\n",
    "df4_Nnl_id.to_csv(BU+'/Uhrzeitanalyse_'+Marke+'_ohneNL.csv',decimal=',',sep=';')"
   ]
  },
  {
   "cell_type": "code",
   "execution_count": null,
   "metadata": {},
   "outputs": [],
   "source": []
  }
 ],
 "metadata": {
  "hide_input": false,
  "kernelspec": {
   "display_name": "Python 3",
   "language": "python",
   "name": "python3"
  },
  "language_info": {
   "codemirror_mode": {
    "name": "ipython",
    "version": 3
   },
   "file_extension": ".py",
   "mimetype": "text/x-python",
   "name": "python",
   "nbconvert_exporter": "python",
   "pygments_lexer": "ipython3",
   "version": "3.6.9"
  },
  "toc": {
   "base_numbering": 1,
   "nav_menu": {},
   "number_sections": true,
   "sideBar": true,
   "skip_h1_title": false,
   "title_cell": "Table of Contents",
   "title_sidebar": "Contents",
   "toc_cell": false,
   "toc_position": {},
   "toc_section_display": true,
   "toc_window_display": false
  }
 },
 "nbformat": 4,
 "nbformat_minor": 2
}
